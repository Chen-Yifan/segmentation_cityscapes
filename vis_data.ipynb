{
 "cells": [
  {
   "cell_type": "markdown",
   "metadata": {},
   "source": [
    "# 1. Plot from resized dataset"
   ]
  },
  {
   "cell_type": "code",
   "execution_count": 3,
   "metadata": {},
   "outputs": [],
   "source": [
    "# data path\n",
    "dataset_path = '/home/yifan/Github/segmentation_train/dataset/cityscapes_all/'\n",
    "mask_path = dataset_path + 'gtFine/'\n",
    "mask_test_path = mask_path + 'train'"
   ]
  },
  {
   "cell_type": "code",
   "execution_count": 4,
   "metadata": {},
   "outputs": [],
   "source": [
    "import os\n",
    "import numpy as np\n",
    "import imageio\n",
    "import re\n",
    "import matplotlib.pyplot as plt \n",
    "masks = os.listdir(mask_test_path)\n",
    "masks.sort(key=lambda var:[int(x) if x.isdigit() else x \n",
    "                               for x in re.findall(r'[^0-9]|[0-9]+', var)])"
   ]
  },
  {
   "cell_type": "code",
   "execution_count": 7,
   "metadata": {},
   "outputs": [
    {
     "name": "stdout",
     "output_type": "stream",
     "text": [
      "jena_000001_000019_gtFine_trainIds.npy jena_000002_000019_gtFine_trainIds.npy jena_000006_000019_gtFine_trainIds.npy jena_000011_000019_gtFine_trainIds.npy\n"
     ]
    }
   ],
   "source": [
    "print(masks[0], masks[1], masks[2], masks[3])\n"
   ]
  },
  {
   "cell_type": "markdown",
   "metadata": {},
   "source": [
    "## Run it"
   ]
  },
  {
   "cell_type": "code",
   "execution_count": 7,
   "metadata": {},
   "outputs": [
    {
     "name": "stderr",
     "output_type": "stream",
     "text": [
      "Clipping input data to the valid range for imshow with RGB data ([0..1] for floats or [0..255] for integers).\n"
     ]
    },
    {
     "name": "stdout",
     "output_type": "stream",
     "text": [
      "jena_000002_000019_gtFine_trainIds.npy\n",
      "(256, 256, 20)\n",
      "[0. 1.]\n",
      "int64\n"
     ]
    },
    {
     "data": {
      "image/png": "[encoded data removed]",
      "text/plain": [
       "<Figure size 432x288 with 1 Axes>"
      ]
     },
     "metadata": {
      "needs_background": "light"
     },
     "output_type": "display_data"
    },
    {
     "data": {
      "image/png": "[encoded data removed]",
      "text/plain": [
       "<Figure size 432x288 with 1 Axes>"
      ]
     },
     "metadata": {
      "needs_background": "light"
     },
     "output_type": "display_data"
    }
   ],
   "source": [
    "from dataGenerator import palette\n",
    "def plot(i):\n",
    "    print(masks[i])\n",
    "    # img = plt.imread(os.path.join(mask_test_path, masks[i]))\n",
    "    img = np.load(os.path.join(mask_test_path, masks[i]))\n",
    "    print(img.shape)\n",
    "    print(np.unique(img))\n",
    "    trainId = np.argmax(img,axis=-1)\n",
    "    color = palette(trainId)\n",
    "\n",
    "    fig = plt.figure()\n",
    "    a = plt.figure(1)\n",
    "    plt.title('trainId')\n",
    "    plot1 = plt.imshow(trainId)\n",
    "    b = plt.figure(2)\n",
    "    plt.title('color')\n",
    "    plot2 = plt.imshow(color)\n",
    "plot(2)"
   ]
  },
  {
   "cell_type": "code",
   "execution_count": null,
   "metadata": {},
   "outputs": [],
   "source": []
  }
 ],
 "metadata": {
  "kernelspec": {
   "display_name": "tf3.6",
   "language": "python",
   "name": "tf3.6"
  }
 },
 "nbformat": 4,
 "nbformat_minor": 2
}
