{
 "cells": [
  {
   "cell_type": "code",
   "execution_count": 3,
   "metadata": {},
   "outputs": [],
   "source": [
    "# data path\n",
    "dataset_path = '/home/yifan/Github/segmentation_train/dataset/cityscapes_all/'\n",
    "mask_path = dataset_path + 'gtFine/'\n",
    "mask_test_path = mask_path + 'train'"
   ]
  },
  {
   "cell_type": "code",
   "execution_count": 4,
   "metadata": {},
   "outputs": [],
   "source": [
    "import os\n",
    "import numpy as np\n",
    "import imageio\n",
    "import re\n",
    "import matplotlib.pyplot as plt \n",
    "masks = os.listdir(mask_test_path)\n",
    "masks.sort(key=lambda var:[int(x) if x.isdigit() else x \n",
    "                               for x in re.findall(r'[^0-9]|[0-9]+', var)])"
   ]
  },
  {
   "cell_type": "code",
   "execution_count": 7,
   "metadata": {},
   "outputs": [
    {
     "name": "stdout",
     "output_type": "stream",
     "text": [
      "jena_000001_000019_gtFine_trainIds.npy jena_000002_000019_gtFine_trainIds.npy jena_000006_000019_gtFine_trainIds.npy jena_000011_000019_gtFine_trainIds.npy\n"
     ]
    }
   ],
   "source": [
    "print(masks[0], masks[1], masks[2], masks[3])\n"
   ]
  },
  {
   "cell_type": "code",
   "execution_count": 11,
   "metadata": {},
   "outputs": [
    {
     "name": "stdout",
     "output_type": "stream",
     "text": [
      "jena_000001_000019_gtFine_trainIds.npy\n",
      "(256, 256, 20)\n",
      "[0. 1.]\n"
     ]
    },
    {
     "data": {
      "text/plain": [
       "<matplotlib.image.AxesImage at 0x7f09a9a474e0>"
      ]
     },
     "execution_count": 11,
     "metadata": {},
     "output_type": "execute_result"
    },
    {
     "data": {
      "image/png": "[encoded data removed]",
      "text/plain": [
       "<Figure size 432x288 with 1 Axes>"
      ]
     },
     "metadata": {
      "needs_background": "light"
     },
     "output_type": "display_data"
    }
   ],
   "source": [
    "from dataGenerator import palette\n",
    "masks = os.listdir(mask_test_path)\n",
    "masks.sort(key=lambda var:[int(x) if x.isdigit() else x \n",
    "                               for x in re.findall(r'[^0-9]|[0-9]+', var)])\n",
    "\n",
    "i = 0\n",
    "print(masks[i])\n",
    "# img = plt.imread(os.path.join(mask_test_path, masks[i]))\n",
    "img = np.load(os.path.join(mask_test_path, masks[i]))\n",
    "print(img.shape)\n",
    "print(np.unique(img))\n",
    "trainId = np.argmax(img,axis=-1)\n",
    "color = palette(trainId)\n",
    "\n",
    "fig = plt.figure()\n",
    "a = plt.figure(1)\n",
    "plt.title('trainId')\n",
    "plot1 = plt.imshow(trainId)\n",
    "b = plt.figure(2)\n",
    "plt.title('color')\n",
    "plot2 = plt.imshow(color)\n"
   ]
  },
  {
   "cell_type": "code",
   "execution_count": null,
   "metadata": {},
   "outputs": [],
   "source": []
  }
 ],
 "metadata": {
  "kernelspec": {
   "display_name": "tf3.6",
   "language": "python",
   "name": "tf3.6"
  },
  "language_info": {
   "codemirror_mode": {
    "name": "ipython",
    "version": 3
   },
   "file_extension": ".py",
   "mimetype": "text/x-python",
   "name": "python",
   "nbconvert_exporter": "python",
   "pygments_lexer": "ipython3",
   "version": "3.6.8"
  }
 },
 "nbformat": 4,
 "nbformat_minor": 2
}
